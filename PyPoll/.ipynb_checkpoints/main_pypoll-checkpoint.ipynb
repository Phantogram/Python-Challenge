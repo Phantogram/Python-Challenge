{
 "cells": [
  {
   "cell_type": "code",
   "execution_count": null,
   "metadata": {},
   "outputs": [],
   "source": [
    "# Dependencies\n",
    "import os\n",
    "import csv\n",
    "\n",
    "# Path to collect data from the Resources folder\n",
    "election_csvpath = os.path.join('Resources_PyPoll', 'election_data.csv')"
   ]
  },
  {
   "cell_type": "code",
   "execution_count": null,
   "metadata": {},
   "outputs": [],
   "source": [
    "total_votes=0\n",
    "khan=0\n",
    "correy=0\n",
    "li=0\n",
    "otooley=0\n",
    "candidates={}\n",
    "options = []\n",
    "\n",
    "# Read in the CSV file\n",
    "with open(election_csvpath) as csvfile:\n",
    "\n",
    "    # Split the data on commas\n",
    "    csvreader = csv.reader(csvfile, delimiter=',')\n",
    "\n",
    "    header = next(csvreader)\n",
    "    \n",
    "    # Loop through the data\n",
    "    for row in csvreader:\n",
    "        total_votes+=1\n",
    "        name=row[2]\n",
    "\n",
    "        if name not in options:\n",
    "            options.append(name)\n",
    "            candidates[name]=0\n",
    "        \n",
    "        candidates[name]+=1\n",
    "    \n",
    "# Total votes and percentage of votes for each candidate   \n",
    "    khan = candidates.get(\"Khan\")\n",
    "    khan_percent=((khan/total_votes)*100)\n",
    "\n",
    "    correy = candidates.get(\"Correy\")\n",
    "    correy_percent=((correy/total_votes)*100)\n",
    "\n",
    "    li = candidates.get(\"Li\")\n",
    "    li_percent=((li/total_votes)*100)\n",
    "\n",
    "    otooley = candidates.get(\"O'Tooley\")\n",
    "    otooley_percent=((otooley/total_votes)*100)\n"
   ]
  },
  {
   "cell_type": "code",
   "execution_count": null,
   "metadata": {},
   "outputs": [],
   "source": [
    " # The winner of the election based on popular vote\n",
    "winning_votes = 0\n",
    "winning_candidate = ''\n",
    "\n",
    "for name, count in candidates.items():\n",
    "   \n",
    "    if count > winning_votes: \n",
    "        \n",
    "        print(name, ((count/total_votes)*100), count)\n",
    "        \n",
    "if khan > correy and li and otooley:\n",
    "        \n",
    "    winning_candidate = \"Khan\"\n",
    "    runner_up = \"Correy\"\n",
    "    third_up = \"Li\"\n",
    "    fourth_up = \"O'Tooley\"\n",
    "    print(winning_candidate)\n",
    "\n"
   ]
  },
  {
   "cell_type": "code",
   "execution_count": null,
   "metadata": {},
   "outputs": [],
   "source": [
    "# Write to new file\n",
    "PyPollPath=os.path.join('main_pypoll.py')\n",
    "\n",
    "with open(PyPollPath,'w') as PyPollPath:\n",
    "    \n",
    "    PyPollPath.write(f'Election Results')\n",
    "    PyPollPath.write(\"\\n\")\n",
    "    PyPollPath.write(f'-------------------------')\n",
    "    PyPollPath.write(\"\\n\")\n",
    "    PyPollPath.write(f'Total Votes: {total_votes}')\n",
    "    PyPollPath.write(\"\\n\")\n",
    "    PyPollPath.write(f'-------------------------')\n",
    "    PyPollPath.write(\"\\n\")\n",
    "    PyPollPath.write(f'{winning_candidate}: {khan_percent:.3f}% ({khan})')\n",
    "    PyPollPath.write(\"\\n\")\n",
    "    PyPollPath.write(f'{runner_up}: {correy_percent:.3f}% ({correy})')\n",
    "    PyPollPath.write(\"\\n\")\n",
    "    PyPollPath.write(f'{third_up}: {li_percent:.3f}% ({li})')\n",
    "    PyPollPath.write(\"\\n\")\n",
    "    PyPollPath.write(f'{fourth_up}: {otooley_percent:.3f}% ({otooley})')\n",
    "    PyPollPath.write(\"\\n\")\n",
    "    PyPollPath.write(f'-------------------------')\n",
    "    PyPollPath.write(\"\\n\")\n",
    "    PyPollPath.write(f'Winner: {winning_candidate}')\n",
    "    PyPollPath.write(\"\\n\")\n",
    "    PyPollPath.write(f'-------------------------')"
   ]
  },
  {
   "cell_type": "code",
   "execution_count": null,
   "metadata": {},
   "outputs": [],
   "source": []
  }
 ],
 "metadata": {
  "kernelspec": {
   "display_name": "Python 3",
   "language": "python",
   "name": "python3"
  },
  "language_info": {
   "codemirror_mode": {
    "name": "ipython",
    "version": 3
   },
   "file_extension": ".py",
   "mimetype": "text/x-python",
   "name": "python",
   "nbconvert_exporter": "python",
   "pygments_lexer": "ipython3",
   "version": "3.7.6"
  }
 },
 "nbformat": 4,
 "nbformat_minor": 4
}
