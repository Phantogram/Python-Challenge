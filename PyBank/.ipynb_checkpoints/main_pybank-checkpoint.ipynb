{
 "cells": [
  {
   "cell_type": "code",
   "execution_count": 1,
   "metadata": {},
   "outputs": [],
   "source": [
    "import os\n",
    "import csv\n",
    "\n",
    "# Path to collect data from the Resources folder\n",
    "budget_csvpath = os.path.join('Resources_PyBank', 'budget_data.csv')"
   ]
  },
  {
   "cell_type": "code",
   "execution_count": 2,
   "metadata": {},
   "outputs": [],
   "source": [
    "total_months=1\n",
    "total_profloss=0\n",
    "changes=[]\n",
    "months=[]\n",
    "\n",
    "# Read the CSV file\n",
    "with open(budget_csvpath) as csvfile:\n",
    "    \n",
    "    # Split the data on commas\n",
    "    csvreader = csv.reader(csvfile, delimiter=',')\n",
    "\n",
    "    header = next(csvreader)\n",
    "    first_row= next(csvreader)\n",
    "    total_profloss += int(first_row[1])\n",
    "    previous_revenue=int(first_row[1])\n",
    "    \n",
    "    \n",
    "    # Loop through the data\n",
    "    for row in csvreader:\n",
    "            \n",
    "        total_months += 1\n",
    "        total_profloss += int(row[1])\n",
    "        changes.append(int(row[1]) - previous_revenue)\n",
    "        previous_revenue=int(row[1])\n",
    "        months.append(row[0])"
   ]
  },
  {
   "cell_type": "code",
   "execution_count": 3,
   "metadata": {},
   "outputs": [],
   "source": [
    "# The greatest increase in profits & greatest decrease in losses\n",
    "greatest_inc = max(changes)\n",
    "greatest_dec = min(changes)\n",
    "\n",
    "greatest_inc_months=months[changes.index(greatest_inc)]\n",
    "greatest_dec_months=months[changes.index(greatest_dec)]"
   ]
  },
  {
   "cell_type": "code",
   "execution_count": 4,
   "metadata": {},
   "outputs": [],
   "source": [
    "# The average of the changes\n",
    "monthly_average=sum(changes)/len(changes)\n"
   ]
  },
  {
   "cell_type": "code",
   "execution_count": 5,
   "metadata": {},
   "outputs": [],
   "source": [
    "# Write to new file\n",
    "newFilePath=os.path.join('main_pybank.py')\n",
    "\n",
    "with open(newFilePath,'w') as newFile:\n",
    "    \n",
    "    newFile.write(f'Financial Analysis')\n",
    "    newFile.write(\"\\n\")\n",
    "    newFile.write(f'-------------------------------')\n",
    "    newFile.write(\"\\n\")\n",
    "    newFile.write(f'Total Months: {total_months}')\n",
    "    newFile.write(\"\\n\")\n",
    "    newFile.write(f'Total: ${total_profloss}')\n",
    "    newFile.write(\"\\n\")\n",
    "    newFile.write(f'Average Change: ${monthly_average:.2f}')\n",
    "    newFile.write(\"\\n\")\n",
    "    newFile.write(f'Greatest Increase in Profits: {greatest_inc_months} (${greatest_inc})')\n",
    "    newFile.write(\"\\n\")\n",
    "    newFile.write(f'Greatest Decrease in Profits: {greatest_dec_months} (${greatest_dec})')\n",
    "    "
   ]
  },
  {
   "cell_type": "code",
   "execution_count": null,
   "metadata": {},
   "outputs": [],
   "source": []
  },
  {
   "cell_type": "code",
   "execution_count": null,
   "metadata": {},
   "outputs": [],
   "source": []
  }
 ],
 "metadata": {
  "kernelspec": {
   "display_name": "Python 3",
   "language": "python",
   "name": "python3"
  },
  "language_info": {
   "codemirror_mode": {
    "name": "ipython",
    "version": 3
   },
   "file_extension": ".py",
   "mimetype": "text/x-python",
   "name": "python",
   "nbconvert_exporter": "python",
   "pygments_lexer": "ipython3",
   "version": "3.7.6"
  }
 },
 "nbformat": 4,
 "nbformat_minor": 4
}
